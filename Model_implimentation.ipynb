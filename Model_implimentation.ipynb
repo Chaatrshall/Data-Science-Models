{
 "cells": [
  {
   "cell_type": "code",
   "execution_count": 1,
   "id": "95d5a4ae",
   "metadata": {},
   "outputs": [],
   "source": [
    "import pandas as pd "
   ]
  },
  {
   "cell_type": "code",
   "execution_count": 2,
   "id": "e20341b3",
   "metadata": {},
   "outputs": [
    {
     "data": {
      "text/html": [
       "<div>\n",
       "<style scoped>\n",
       "    .dataframe tbody tr th:only-of-type {\n",
       "        vertical-align: middle;\n",
       "    }\n",
       "\n",
       "    .dataframe tbody tr th {\n",
       "        vertical-align: top;\n",
       "    }\n",
       "\n",
       "    .dataframe thead th {\n",
       "        text-align: right;\n",
       "    }\n",
       "</style>\n",
       "<table border=\"1\" class=\"dataframe\">\n",
       "  <thead>\n",
       "    <tr style=\"text-align: right;\">\n",
       "      <th></th>\n",
       "      <th>amazonpay_recency</th>\n",
       "      <th>amt_cc_txn_m2</th>\n",
       "      <th>cnt_cash_wdls_ratio_c7_p7</th>\n",
       "      <th>cnt_paytm_ecom_ratio_c30_p30</th>\n",
       "      <th>cnt_postpaid_bill_m3</th>\n",
       "      <th>cnt_postpaid_bill_m4</th>\n",
       "      <th>cnt_postpaid_bill_m5</th>\n",
       "      <th>min_amt_topup_ratio_c7_p7</th>\n",
       "      <th>secondary_acc_max_bal_m2</th>\n",
       "      <th>temp_secondary_acc_cnt_credits_c7</th>\n",
       "      <th>target</th>\n",
       "    </tr>\n",
       "  </thead>\n",
       "  <tbody>\n",
       "    <tr>\n",
       "      <th>0</th>\n",
       "      <td>32.768844</td>\n",
       "      <td>16891.04711</td>\n",
       "      <td>1.275063</td>\n",
       "      <td>1.14939</td>\n",
       "      <td>1.052381</td>\n",
       "      <td>1.042169</td>\n",
       "      <td>1.039062</td>\n",
       "      <td>3.358192</td>\n",
       "      <td>36158.44921</td>\n",
       "      <td>2.028529</td>\n",
       "      <td>0</td>\n",
       "    </tr>\n",
       "    <tr>\n",
       "      <th>1</th>\n",
       "      <td>32.768844</td>\n",
       "      <td>16891.04711</td>\n",
       "      <td>1.275063</td>\n",
       "      <td>1.14939</td>\n",
       "      <td>1.000000</td>\n",
       "      <td>1.042169</td>\n",
       "      <td>1.039062</td>\n",
       "      <td>3.358192</td>\n",
       "      <td>36158.44921</td>\n",
       "      <td>2.028529</td>\n",
       "      <td>0</td>\n",
       "    </tr>\n",
       "    <tr>\n",
       "      <th>2</th>\n",
       "      <td>32.768844</td>\n",
       "      <td>16891.04711</td>\n",
       "      <td>1.275063</td>\n",
       "      <td>1.14939</td>\n",
       "      <td>1.052381</td>\n",
       "      <td>1.042169</td>\n",
       "      <td>1.039062</td>\n",
       "      <td>3.358192</td>\n",
       "      <td>36158.44921</td>\n",
       "      <td>2.028529</td>\n",
       "      <td>0</td>\n",
       "    </tr>\n",
       "    <tr>\n",
       "      <th>3</th>\n",
       "      <td>32.768844</td>\n",
       "      <td>16891.04711</td>\n",
       "      <td>1.275063</td>\n",
       "      <td>1.14939</td>\n",
       "      <td>1.052381</td>\n",
       "      <td>1.042169</td>\n",
       "      <td>1.039062</td>\n",
       "      <td>3.358192</td>\n",
       "      <td>36158.44921</td>\n",
       "      <td>2.028529</td>\n",
       "      <td>0</td>\n",
       "    </tr>\n",
       "    <tr>\n",
       "      <th>4</th>\n",
       "      <td>32.768844</td>\n",
       "      <td>16891.04711</td>\n",
       "      <td>1.275063</td>\n",
       "      <td>1.14939</td>\n",
       "      <td>1.052381</td>\n",
       "      <td>1.042169</td>\n",
       "      <td>1.039062</td>\n",
       "      <td>3.358192</td>\n",
       "      <td>36158.44921</td>\n",
       "      <td>2.028529</td>\n",
       "      <td>0</td>\n",
       "    </tr>\n",
       "  </tbody>\n",
       "</table>\n",
       "</div>"
      ],
      "text/plain": [
       "   amazonpay_recency  amt_cc_txn_m2  cnt_cash_wdls_ratio_c7_p7  \\\n",
       "0          32.768844    16891.04711                   1.275063   \n",
       "1          32.768844    16891.04711                   1.275063   \n",
       "2          32.768844    16891.04711                   1.275063   \n",
       "3          32.768844    16891.04711                   1.275063   \n",
       "4          32.768844    16891.04711                   1.275063   \n",
       "\n",
       "   cnt_paytm_ecom_ratio_c30_p30  cnt_postpaid_bill_m3  cnt_postpaid_bill_m4  \\\n",
       "0                       1.14939              1.052381              1.042169   \n",
       "1                       1.14939              1.000000              1.042169   \n",
       "2                       1.14939              1.052381              1.042169   \n",
       "3                       1.14939              1.052381              1.042169   \n",
       "4                       1.14939              1.052381              1.042169   \n",
       "\n",
       "   cnt_postpaid_bill_m5  min_amt_topup_ratio_c7_p7  secondary_acc_max_bal_m2  \\\n",
       "0              1.039062                   3.358192               36158.44921   \n",
       "1              1.039062                   3.358192               36158.44921   \n",
       "2              1.039062                   3.358192               36158.44921   \n",
       "3              1.039062                   3.358192               36158.44921   \n",
       "4              1.039062                   3.358192               36158.44921   \n",
       "\n",
       "   temp_secondary_acc_cnt_credits_c7  target  \n",
       "0                           2.028529       0  \n",
       "1                           2.028529       0  \n",
       "2                           2.028529       0  \n",
       "3                           2.028529       0  \n",
       "4                           2.028529       0  "
      ]
     },
     "execution_count": 2,
     "metadata": {},
     "output_type": "execute_result"
    }
   ],
   "source": [
    "df=pd.read_csv('check.csv')\n",
    "df.head()"
   ]
  },
  {
   "cell_type": "code",
   "execution_count": 3,
   "id": "408818ce",
   "metadata": {},
   "outputs": [
    {
     "data": {
      "text/plain": [
       "(16096, 11)"
      ]
     },
     "execution_count": 3,
     "metadata": {},
     "output_type": "execute_result"
    }
   ],
   "source": [
    "df.shape"
   ]
  },
  {
   "cell_type": "code",
   "execution_count": 4,
   "id": "070eb97c",
   "metadata": {},
   "outputs": [],
   "source": [
    "from sklearn.preprocessing import MinMaxScaler\n",
    "from sklearn.preprocessing import StandardScaler"
   ]
  },
  {
   "cell_type": "code",
   "execution_count": 5,
   "id": "c8dae134",
   "metadata": {},
   "outputs": [
    {
     "data": {
      "text/plain": [
       "StandardScaler()"
      ]
     },
     "execution_count": 5,
     "metadata": {},
     "output_type": "execute_result"
    }
   ],
   "source": [
    "scaler=StandardScaler()\n",
    "scaler.fit(df)"
   ]
  },
  {
   "cell_type": "code",
   "execution_count": 6,
   "id": "e2b2ddff",
   "metadata": {},
   "outputs": [],
   "source": [
    "df2=pd.DataFrame(scaler.fit_transform(df.loc[:,df.columns!='target']),columns=['amazonpay_recency', 'amt_cc_txn_m2', 'cnt_cash_wdls_ratio_c7_p7',\n",
    "       'cnt_paytm_ecom_ratio_c30_p30', 'cnt_postpaid_bill_m3',\n",
    "       'cnt_postpaid_bill_m4', 'cnt_postpaid_bill_m5',\n",
    "       'min_amt_topup_ratio_c7_p7', 'secondary_acc_max_bal_m2',\n",
    "       'temp_secondary_acc_cnt_credits_c7'])\n",
    "target=df['target']\n",
    "df2=df2.join(target)"
   ]
  },
  {
   "cell_type": "code",
   "execution_count": 7,
   "id": "c3880559",
   "metadata": {},
   "outputs": [
    {
     "data": {
      "text/html": [
       "<div>\n",
       "<style scoped>\n",
       "    .dataframe tbody tr th:only-of-type {\n",
       "        vertical-align: middle;\n",
       "    }\n",
       "\n",
       "    .dataframe tbody tr th {\n",
       "        vertical-align: top;\n",
       "    }\n",
       "\n",
       "    .dataframe thead th {\n",
       "        text-align: right;\n",
       "    }\n",
       "</style>\n",
       "<table border=\"1\" class=\"dataframe\">\n",
       "  <thead>\n",
       "    <tr style=\"text-align: right;\">\n",
       "      <th></th>\n",
       "      <th>amazonpay_recency</th>\n",
       "      <th>amt_cc_txn_m2</th>\n",
       "      <th>cnt_cash_wdls_ratio_c7_p7</th>\n",
       "      <th>cnt_paytm_ecom_ratio_c30_p30</th>\n",
       "      <th>cnt_postpaid_bill_m3</th>\n",
       "      <th>cnt_postpaid_bill_m4</th>\n",
       "      <th>cnt_postpaid_bill_m5</th>\n",
       "      <th>min_amt_topup_ratio_c7_p7</th>\n",
       "      <th>secondary_acc_max_bal_m2</th>\n",
       "      <th>temp_secondary_acc_cnt_credits_c7</th>\n",
       "      <th>target</th>\n",
       "    </tr>\n",
       "  </thead>\n",
       "  <tbody>\n",
       "    <tr>\n",
       "      <th>0</th>\n",
       "      <td>-3.245444e-12</td>\n",
       "      <td>3.031044e-12</td>\n",
       "      <td>8.220189e-11</td>\n",
       "      <td>7.750360e-12</td>\n",
       "      <td>-3.279563e-10</td>\n",
       "      <td>2.313705e-10</td>\n",
       "      <td>0.0</td>\n",
       "      <td>5.675436e-12</td>\n",
       "      <td>9.068602e-12</td>\n",
       "      <td>-1.540883e-11</td>\n",
       "      <td>0</td>\n",
       "    </tr>\n",
       "    <tr>\n",
       "      <th>1</th>\n",
       "      <td>-3.245444e-12</td>\n",
       "      <td>3.031044e-12</td>\n",
       "      <td>8.220189e-11</td>\n",
       "      <td>7.750360e-12</td>\n",
       "      <td>-1.152117e+00</td>\n",
       "      <td>2.313705e-10</td>\n",
       "      <td>0.0</td>\n",
       "      <td>5.675436e-12</td>\n",
       "      <td>9.068602e-12</td>\n",
       "      <td>-1.540883e-11</td>\n",
       "      <td>0</td>\n",
       "    </tr>\n",
       "    <tr>\n",
       "      <th>2</th>\n",
       "      <td>-3.245444e-12</td>\n",
       "      <td>3.031044e-12</td>\n",
       "      <td>8.220189e-11</td>\n",
       "      <td>7.750360e-12</td>\n",
       "      <td>-3.279563e-10</td>\n",
       "      <td>2.313705e-10</td>\n",
       "      <td>0.0</td>\n",
       "      <td>5.675436e-12</td>\n",
       "      <td>9.068602e-12</td>\n",
       "      <td>-1.540883e-11</td>\n",
       "      <td>0</td>\n",
       "    </tr>\n",
       "    <tr>\n",
       "      <th>3</th>\n",
       "      <td>-3.245444e-12</td>\n",
       "      <td>3.031044e-12</td>\n",
       "      <td>8.220189e-11</td>\n",
       "      <td>7.750360e-12</td>\n",
       "      <td>-3.279563e-10</td>\n",
       "      <td>2.313705e-10</td>\n",
       "      <td>0.0</td>\n",
       "      <td>5.675436e-12</td>\n",
       "      <td>9.068602e-12</td>\n",
       "      <td>-1.540883e-11</td>\n",
       "      <td>0</td>\n",
       "    </tr>\n",
       "    <tr>\n",
       "      <th>4</th>\n",
       "      <td>-3.245444e-12</td>\n",
       "      <td>3.031044e-12</td>\n",
       "      <td>8.220189e-11</td>\n",
       "      <td>7.750360e-12</td>\n",
       "      <td>-3.279563e-10</td>\n",
       "      <td>2.313705e-10</td>\n",
       "      <td>0.0</td>\n",
       "      <td>5.675436e-12</td>\n",
       "      <td>9.068602e-12</td>\n",
       "      <td>-1.540883e-11</td>\n",
       "      <td>0</td>\n",
       "    </tr>\n",
       "    <tr>\n",
       "      <th>...</th>\n",
       "      <td>...</td>\n",
       "      <td>...</td>\n",
       "      <td>...</td>\n",
       "      <td>...</td>\n",
       "      <td>...</td>\n",
       "      <td>...</td>\n",
       "      <td>...</td>\n",
       "      <td>...</td>\n",
       "      <td>...</td>\n",
       "      <td>...</td>\n",
       "      <td>...</td>\n",
       "    </tr>\n",
       "    <tr>\n",
       "      <th>16091</th>\n",
       "      <td>-3.245444e-12</td>\n",
       "      <td>3.031044e-12</td>\n",
       "      <td>8.220189e-11</td>\n",
       "      <td>-1.941179e-01</td>\n",
       "      <td>-3.279563e-10</td>\n",
       "      <td>2.313705e-10</td>\n",
       "      <td>0.0</td>\n",
       "      <td>5.675436e-12</td>\n",
       "      <td>-4.505691e-01</td>\n",
       "      <td>-1.540883e-11</td>\n",
       "      <td>0</td>\n",
       "    </tr>\n",
       "    <tr>\n",
       "      <th>16092</th>\n",
       "      <td>-3.245444e-12</td>\n",
       "      <td>3.031044e-12</td>\n",
       "      <td>8.220189e-11</td>\n",
       "      <td>7.750360e-12</td>\n",
       "      <td>-3.279563e-10</td>\n",
       "      <td>2.313705e-10</td>\n",
       "      <td>0.0</td>\n",
       "      <td>5.675436e-12</td>\n",
       "      <td>9.068602e-12</td>\n",
       "      <td>-3.743938e-02</td>\n",
       "      <td>0</td>\n",
       "    </tr>\n",
       "    <tr>\n",
       "      <th>16093</th>\n",
       "      <td>-3.245444e-12</td>\n",
       "      <td>3.031044e-12</td>\n",
       "      <td>8.220189e-11</td>\n",
       "      <td>7.750360e-12</td>\n",
       "      <td>-3.279563e-10</td>\n",
       "      <td>2.313705e-10</td>\n",
       "      <td>0.0</td>\n",
       "      <td>5.675436e-12</td>\n",
       "      <td>9.068602e-12</td>\n",
       "      <td>-1.540883e-11</td>\n",
       "      <td>0</td>\n",
       "    </tr>\n",
       "    <tr>\n",
       "      <th>16094</th>\n",
       "      <td>-3.245444e-12</td>\n",
       "      <td>3.031044e-12</td>\n",
       "      <td>8.220189e-11</td>\n",
       "      <td>7.750360e-12</td>\n",
       "      <td>-3.279563e-10</td>\n",
       "      <td>2.313705e-10</td>\n",
       "      <td>0.0</td>\n",
       "      <td>5.675436e-12</td>\n",
       "      <td>9.068602e-12</td>\n",
       "      <td>-1.540883e-11</td>\n",
       "      <td>0</td>\n",
       "    </tr>\n",
       "    <tr>\n",
       "      <th>16095</th>\n",
       "      <td>-3.245444e-12</td>\n",
       "      <td>3.031044e-12</td>\n",
       "      <td>8.220189e-11</td>\n",
       "      <td>7.750360e-12</td>\n",
       "      <td>-3.279563e-10</td>\n",
       "      <td>2.313705e-10</td>\n",
       "      <td>0.0</td>\n",
       "      <td>5.675436e-12</td>\n",
       "      <td>9.068602e-12</td>\n",
       "      <td>-1.349754e+00</td>\n",
       "      <td>0</td>\n",
       "    </tr>\n",
       "  </tbody>\n",
       "</table>\n",
       "<p>16096 rows × 11 columns</p>\n",
       "</div>"
      ],
      "text/plain": [
       "       amazonpay_recency  amt_cc_txn_m2  cnt_cash_wdls_ratio_c7_p7  \\\n",
       "0          -3.245444e-12   3.031044e-12               8.220189e-11   \n",
       "1          -3.245444e-12   3.031044e-12               8.220189e-11   \n",
       "2          -3.245444e-12   3.031044e-12               8.220189e-11   \n",
       "3          -3.245444e-12   3.031044e-12               8.220189e-11   \n",
       "4          -3.245444e-12   3.031044e-12               8.220189e-11   \n",
       "...                  ...            ...                        ...   \n",
       "16091      -3.245444e-12   3.031044e-12               8.220189e-11   \n",
       "16092      -3.245444e-12   3.031044e-12               8.220189e-11   \n",
       "16093      -3.245444e-12   3.031044e-12               8.220189e-11   \n",
       "16094      -3.245444e-12   3.031044e-12               8.220189e-11   \n",
       "16095      -3.245444e-12   3.031044e-12               8.220189e-11   \n",
       "\n",
       "       cnt_paytm_ecom_ratio_c30_p30  cnt_postpaid_bill_m3  \\\n",
       "0                      7.750360e-12         -3.279563e-10   \n",
       "1                      7.750360e-12         -1.152117e+00   \n",
       "2                      7.750360e-12         -3.279563e-10   \n",
       "3                      7.750360e-12         -3.279563e-10   \n",
       "4                      7.750360e-12         -3.279563e-10   \n",
       "...                             ...                   ...   \n",
       "16091                 -1.941179e-01         -3.279563e-10   \n",
       "16092                  7.750360e-12         -3.279563e-10   \n",
       "16093                  7.750360e-12         -3.279563e-10   \n",
       "16094                  7.750360e-12         -3.279563e-10   \n",
       "16095                  7.750360e-12         -3.279563e-10   \n",
       "\n",
       "       cnt_postpaid_bill_m4  cnt_postpaid_bill_m5  min_amt_topup_ratio_c7_p7  \\\n",
       "0              2.313705e-10                   0.0               5.675436e-12   \n",
       "1              2.313705e-10                   0.0               5.675436e-12   \n",
       "2              2.313705e-10                   0.0               5.675436e-12   \n",
       "3              2.313705e-10                   0.0               5.675436e-12   \n",
       "4              2.313705e-10                   0.0               5.675436e-12   \n",
       "...                     ...                   ...                        ...   \n",
       "16091          2.313705e-10                   0.0               5.675436e-12   \n",
       "16092          2.313705e-10                   0.0               5.675436e-12   \n",
       "16093          2.313705e-10                   0.0               5.675436e-12   \n",
       "16094          2.313705e-10                   0.0               5.675436e-12   \n",
       "16095          2.313705e-10                   0.0               5.675436e-12   \n",
       "\n",
       "       secondary_acc_max_bal_m2  temp_secondary_acc_cnt_credits_c7  target  \n",
       "0                  9.068602e-12                      -1.540883e-11       0  \n",
       "1                  9.068602e-12                      -1.540883e-11       0  \n",
       "2                  9.068602e-12                      -1.540883e-11       0  \n",
       "3                  9.068602e-12                      -1.540883e-11       0  \n",
       "4                  9.068602e-12                      -1.540883e-11       0  \n",
       "...                         ...                                ...     ...  \n",
       "16091             -4.505691e-01                      -1.540883e-11       0  \n",
       "16092              9.068602e-12                      -3.743938e-02       0  \n",
       "16093              9.068602e-12                      -1.540883e-11       0  \n",
       "16094              9.068602e-12                      -1.540883e-11       0  \n",
       "16095              9.068602e-12                      -1.349754e+00       0  \n",
       "\n",
       "[16096 rows x 11 columns]"
      ]
     },
     "execution_count": 7,
     "metadata": {},
     "output_type": "execute_result"
    }
   ],
   "source": [
    "df2"
   ]
  },
  {
   "cell_type": "code",
   "execution_count": 8,
   "id": "11701438",
   "metadata": {},
   "outputs": [],
   "source": [
    "from sklearn.model_selection import train_test_split\n",
    "X=df2.drop(labels=['target'], axis=1)\n",
    "y=df2['target']\n",
    "# separate dataset into train and test\n",
    "X_train, X_test, y_train, y_test = train_test_split(\n",
    "    df2.drop(labels=['target'], axis=1),\n",
    "    df2['target'],\n",
    "    test_size=0.2,\n",
    "    random_state=0)"
   ]
  },
  {
   "cell_type": "code",
   "execution_count": 9,
   "id": "70d81fe6",
   "metadata": {},
   "outputs": [],
   "source": [
    "from sklearn.linear_model import LogisticRegression\n",
    "from sklearn.metrics import accuracy_score,confusion_matrix,classification_report\n",
    "from sklearn.model_selection import KFold\n",
    "import numpy as np\n",
    "from sklearn.model_selection import GridSearchCV"
   ]
  },
  {
   "cell_type": "code",
   "execution_count": 10,
   "id": "9c887a86",
   "metadata": {},
   "outputs": [],
   "source": [
    "log_class=LogisticRegression()\n",
    "grid={'C':10.0 **np.arange(-2,3)}\n",
    "cv=KFold(n_splits=5,random_state=None,shuffle=False)"
   ]
  },
  {
   "cell_type": "code",
   "execution_count": 11,
   "id": "793ff0cd",
   "metadata": {},
   "outputs": [],
   "source": [
    "from sklearn.model_selection import train_test_split\n",
    "X_train,X_test,y_train,y_test=train_test_split(X,y,train_size=0.7)"
   ]
  },
  {
   "cell_type": "code",
   "execution_count": 12,
   "id": "e96ccdd9",
   "metadata": {},
   "outputs": [
    {
     "data": {
      "text/plain": [
       "GridSearchCV(cv=KFold(n_splits=5, random_state=None, shuffle=False),\n",
       "             estimator=LogisticRegression(), n_jobs=-1,\n",
       "             param_grid={'C': array([1.e-02, 1.e-01, 1.e+00, 1.e+01, 1.e+02])},\n",
       "             scoring='f1_macro')"
      ]
     },
     "execution_count": 12,
     "metadata": {},
     "output_type": "execute_result"
    }
   ],
   "source": [
    "clf=GridSearchCV(log_class,grid,cv=cv,n_jobs=-1,scoring='f1_macro')\n",
    "clf.fit(X_train,y_train)"
   ]
  },
  {
   "cell_type": "code",
   "execution_count": 13,
   "id": "ee3c208e",
   "metadata": {},
   "outputs": [
    {
     "name": "stdout",
     "output_type": "stream",
     "text": [
      "[[4786    1]\n",
      " [  42    0]]\n",
      "0.9910954648995651\n",
      "              precision    recall  f1-score   support\n",
      "\n",
      "           0       0.99      1.00      1.00      4787\n",
      "           1       0.00      0.00      0.00        42\n",
      "\n",
      "    accuracy                           0.99      4829\n",
      "   macro avg       0.50      0.50      0.50      4829\n",
      "weighted avg       0.98      0.99      0.99      4829\n",
      "\n"
     ]
    }
   ],
   "source": [
    "y_pred=clf.predict(X_test)\n",
    "print(confusion_matrix(y_test,y_pred))\n",
    "print(accuracy_score(y_test,y_pred))\n",
    "print(classification_report(y_test,y_pred))"
   ]
  },
  {
   "cell_type": "code",
   "execution_count": 14,
   "id": "d66b46e8",
   "metadata": {},
   "outputs": [],
   "source": [
    "from imblearn.ensemble import EasyEnsembleClassifier"
   ]
  },
  {
   "cell_type": "code",
   "execution_count": 15,
   "id": "089194cc",
   "metadata": {},
   "outputs": [
    {
     "data": {
      "text/plain": [
       "EasyEnsembleClassifier()"
      ]
     },
     "execution_count": 15,
     "metadata": {},
     "output_type": "execute_result"
    }
   ],
   "source": [
    "easy=EasyEnsembleClassifier()\n",
    "easy.fit(X_train,y_train)"
   ]
  },
  {
   "cell_type": "code",
   "execution_count": 16,
   "id": "c54d87a3",
   "metadata": {},
   "outputs": [
    {
     "name": "stdout",
     "output_type": "stream",
     "text": [
      "[[3724 1063]\n",
      " [  30   12]]\n",
      "0.7736591426796439\n",
      "              precision    recall  f1-score   support\n",
      "\n",
      "           0       0.99      0.78      0.87      4787\n",
      "           1       0.01      0.29      0.02        42\n",
      "\n",
      "    accuracy                           0.77      4829\n",
      "   macro avg       0.50      0.53      0.45      4829\n",
      "weighted avg       0.98      0.77      0.86      4829\n",
      "\n"
     ]
    }
   ],
   "source": [
    "y_pred=easy.predict(X_test)\n",
    "print(confusion_matrix(y_test,y_pred))\n",
    "print(accuracy_score(y_test,y_pred))\n",
    "print(classification_report(y_test,y_pred))"
   ]
  },
  {
   "cell_type": "code",
   "execution_count": 17,
   "id": "1c7c5dd9",
   "metadata": {},
   "outputs": [
    {
     "data": {
      "text/plain": [
       "Counter({0: 11178, 1: 89})"
      ]
     },
     "execution_count": 17,
     "metadata": {},
     "output_type": "execute_result"
    }
   ],
   "source": [
    "from collections import Counter\n",
    "Counter(y_train)"
   ]
  },
  {
   "cell_type": "code",
   "execution_count": 18,
   "id": "a515a724",
   "metadata": {},
   "outputs": [
    {
     "name": "stdout",
     "output_type": "stream",
     "text": [
      "The number of classes before fit Counter({0: 11178, 1: 89})\n",
      "The number of classes after fit Counter({0: 111, 1: 89})\n"
     ]
    },
    {
     "name": "stderr",
     "output_type": "stream",
     "text": [
      "/Library/Frameworks/Python.framework/Versions/3.8/lib/python3.8/site-packages/imblearn/utils/_validation.py:635: FutureWarning: Pass sampling_strategy=0.8 as keyword args. From version 0.9 passing these as positional arguments will result in an error\n",
      "  warnings.warn(\"Pass {} as keyword args. From version 0.9 \"\n"
     ]
    }
   ],
   "source": [
    "from collections import Counter\n",
    "from imblearn.under_sampling import NearMiss\n",
    "ns=NearMiss(0.8)\n",
    "X_train_ns,y_train_ns=ns.fit_sample(X_train,y_train)\n",
    "print(\"The number of classes before fit {}\".format(Counter(y_train)))\n",
    "print(\"The number of classes after fit {}\".format(Counter(y_train_ns)))"
   ]
  },
  {
   "cell_type": "code",
   "execution_count": 19,
   "id": "604195e1",
   "metadata": {},
   "outputs": [
    {
     "data": {
      "text/plain": [
       "RandomForestClassifier()"
      ]
     },
     "execution_count": 19,
     "metadata": {},
     "output_type": "execute_result"
    }
   ],
   "source": [
    "from sklearn.ensemble import RandomForestClassifier\n",
    "classifier=RandomForestClassifier()\n",
    "classifier.fit(X_train_ns,y_train_ns)"
   ]
  },
  {
   "cell_type": "code",
   "execution_count": 20,
   "id": "79f947c6",
   "metadata": {},
   "outputs": [
    {
     "name": "stdout",
     "output_type": "stream",
     "text": [
      "[[3239 1548]\n",
      " [  30   12]]\n",
      "0.673224270035204\n",
      "              precision    recall  f1-score   support\n",
      "\n",
      "           0       0.99      0.68      0.80      4787\n",
      "           1       0.01      0.29      0.01        42\n",
      "\n",
      "    accuracy                           0.67      4829\n",
      "   macro avg       0.50      0.48      0.41      4829\n",
      "weighted avg       0.98      0.67      0.80      4829\n",
      "\n"
     ]
    }
   ],
   "source": [
    "y_pred=classifier.predict(X_test)\n",
    "print(confusion_matrix(y_test,y_pred))\n",
    "print(accuracy_score(y_test,y_pred))\n",
    "print(classification_report(y_test,y_pred))"
   ]
  },
  {
   "cell_type": "code",
   "execution_count": 21,
   "id": "a6a9f13d",
   "metadata": {},
   "outputs": [],
   "source": [
    "from imblearn.combine import SMOTETomek"
   ]
  },
  {
   "cell_type": "code",
   "execution_count": 22,
   "id": "c1f02251",
   "metadata": {},
   "outputs": [
    {
     "name": "stderr",
     "output_type": "stream",
     "text": [
      "/Library/Frameworks/Python.framework/Versions/3.8/lib/python3.8/site-packages/imblearn/utils/_validation.py:635: FutureWarning: Pass sampling_strategy=0.75 as keyword args. From version 0.9 passing these as positional arguments will result in an error\n",
      "  warnings.warn(\"Pass {} as keyword args. From version 0.9 \"\n"
     ]
    },
    {
     "name": "stdout",
     "output_type": "stream",
     "text": [
      "The number of classes before fit Counter({0: 11178, 1: 89})\n",
      "The number of classes after fit Counter({0: 10999, 1: 8204})\n"
     ]
    }
   ],
   "source": [
    "os=SMOTETomek(0.75)\n",
    "X_train_ns,y_train_ns=os.fit_sample(X_train,y_train)\n",
    "print(\"The number of classes before fit {}\".format(Counter(y_train)))\n",
    "print(\"The number of classes after fit {}\".format(Counter(y_train_ns)))"
   ]
  },
  {
   "cell_type": "code",
   "execution_count": 23,
   "id": "fe38679a",
   "metadata": {},
   "outputs": [
    {
     "data": {
      "text/plain": [
       "RandomForestClassifier()"
      ]
     },
     "execution_count": 23,
     "metadata": {},
     "output_type": "execute_result"
    }
   ],
   "source": [
    "from sklearn.ensemble import RandomForestClassifier\n",
    "classifier=RandomForestClassifier()\n",
    "classifier.fit(X_train_ns,y_train_ns)"
   ]
  },
  {
   "cell_type": "code",
   "execution_count": 24,
   "id": "de1a4b90",
   "metadata": {},
   "outputs": [
    {
     "name": "stdout",
     "output_type": "stream",
     "text": [
      "[[4657  130]\n",
      " [  42    0]]\n",
      "0.9643818595982605\n",
      "              precision    recall  f1-score   support\n",
      "\n",
      "           0       0.99      0.97      0.98      4787\n",
      "           1       0.00      0.00      0.00        42\n",
      "\n",
      "    accuracy                           0.96      4829\n",
      "   macro avg       0.50      0.49      0.49      4829\n",
      "weighted avg       0.98      0.96      0.97      4829\n",
      "\n"
     ]
    }
   ],
   "source": [
    "y_pred=classifier.predict(X_test)\n",
    "print(confusion_matrix(y_test,y_pred))\n",
    "print(accuracy_score(y_test,y_pred))\n",
    "print(classification_report(y_test,y_pred))"
   ]
  },
  {
   "cell_type": "code",
   "execution_count": 25,
   "id": "ea1f0fe0",
   "metadata": {},
   "outputs": [],
   "source": [
    "from imblearn.over_sampling import RandomOverSampler"
   ]
  },
  {
   "cell_type": "code",
   "execution_count": 26,
   "id": "efadbc76",
   "metadata": {},
   "outputs": [
    {
     "name": "stdout",
     "output_type": "stream",
     "text": [
      "The number of classes before fit Counter({0: 11178, 1: 89})\n",
      "The number of classes after fit Counter({0: 11178, 1: 8383})\n"
     ]
    },
    {
     "name": "stderr",
     "output_type": "stream",
     "text": [
      "/Library/Frameworks/Python.framework/Versions/3.8/lib/python3.8/site-packages/imblearn/utils/_validation.py:635: FutureWarning: Pass sampling_strategy=0.75 as keyword args. From version 0.9 passing these as positional arguments will result in an error\n",
      "  warnings.warn(\"Pass {} as keyword args. From version 0.9 \"\n"
     ]
    }
   ],
   "source": [
    "os=RandomOverSampler(0.75)\n",
    "X_train_ns,y_train_ns=os.fit_sample(X_train,y_train)\n",
    "print(\"The number of classes before fit {}\".format(Counter(y_train)))\n",
    "print(\"The number of classes after fit {}\".format(Counter(y_train_ns)))"
   ]
  },
  {
   "cell_type": "code",
   "execution_count": 27,
   "id": "5f792bc4",
   "metadata": {},
   "outputs": [
    {
     "data": {
      "text/plain": [
       "RandomForestClassifier()"
      ]
     },
     "execution_count": 27,
     "metadata": {},
     "output_type": "execute_result"
    }
   ],
   "source": [
    "from sklearn.ensemble import RandomForestClassifier\n",
    "classifier=RandomForestClassifier()\n",
    "classifier.fit(X_train_ns,y_train_ns)"
   ]
  },
  {
   "cell_type": "code",
   "execution_count": 28,
   "id": "690789eb",
   "metadata": {},
   "outputs": [
    {
     "name": "stdout",
     "output_type": "stream",
     "text": [
      "[[4517  270]\n",
      " [  38    4]]\n",
      "0.9362186788154897\n",
      "              precision    recall  f1-score   support\n",
      "\n",
      "           0       0.99      0.94      0.97      4787\n",
      "           1       0.01      0.10      0.03        42\n",
      "\n",
      "    accuracy                           0.94      4829\n",
      "   macro avg       0.50      0.52      0.50      4829\n",
      "weighted avg       0.98      0.94      0.96      4829\n",
      "\n"
     ]
    }
   ],
   "source": [
    "y_pred=classifier.predict(X_test)\n",
    "print(confusion_matrix(y_test,y_pred))\n",
    "print(accuracy_score(y_test,y_pred))\n",
    "print(classification_report(y_test,y_pred))"
   ]
  }
 ],
 "metadata": {
  "kernelspec": {
   "display_name": "Python 3",
   "language": "python",
   "name": "python3"
  },
  "language_info": {
   "codemirror_mode": {
    "name": "ipython",
    "version": 3
   },
   "file_extension": ".py",
   "mimetype": "text/x-python",
   "name": "python",
   "nbconvert_exporter": "python",
   "pygments_lexer": "ipython3",
   "version": "3.8.8"
  },
  "varInspector": {
   "cols": {
    "lenName": 16,
    "lenType": 16,
    "lenVar": 40
   },
   "kernels_config": {
    "python": {
     "delete_cmd_postfix": "",
     "delete_cmd_prefix": "del ",
     "library": "var_list.py",
     "varRefreshCmd": "print(var_dic_list())"
    },
    "r": {
     "delete_cmd_postfix": ") ",
     "delete_cmd_prefix": "rm(",
     "library": "var_list.r",
     "varRefreshCmd": "cat(var_dic_list()) "
    }
   },
   "types_to_exclude": [
    "module",
    "function",
    "builtin_function_or_method",
    "instance",
    "_Feature"
   ],
   "window_display": false
  }
 },
 "nbformat": 4,
 "nbformat_minor": 5
}
